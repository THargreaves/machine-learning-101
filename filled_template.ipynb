{
 "cells": [
  {
   "cell_type": "markdown",
   "id": "constant-trick",
   "metadata": {},
   "source": [
    "# Machine Learning 101 | WarwickHACK 2021"
   ]
  },
  {
   "cell_type": "markdown",
   "id": "understanding-judge",
   "metadata": {},
   "source": [
    "## Introduction"
   ]
  },
  {
   "cell_type": "markdown",
   "id": "individual-andorra",
   "metadata": {},
   "source": [
    "### Where Am I?"
   ]
  },
  {
   "cell_type": "markdown",
   "id": "small-mount",
   "metadata": {},
   "source": [
    "[Google Colab](https://colab.research.google.com/) is an online platform for running Python code without needing to install any software. You just need to sign in with a Google account and you're good to go. All _notebooks_ are saved to your Google Drive."
   ]
  },
  {
   "cell_type": "markdown",
   "id": "respected-alpha",
   "metadata": {},
   "source": [
    "### Session Content\n",
    "\n",
    "- What is machine learning?\n",
    "- Decision trees and random forests\n",
    "- Fitting a machine learning model\n",
    "- Model tuning and measuring performance"
   ]
  },
  {
   "cell_type": "markdown",
   "id": "verified-agreement",
   "metadata": {},
   "source": [
    "### Teaching Style\n",
    "\n",
    "- Interactive\n",
    "- Practical\n",
    "- Light\n",
    "- Focus on exploration rather than memorisation"
   ]
  },
  {
   "cell_type": "markdown",
   "id": "unlikely-liability",
   "metadata": {},
   "source": [
    "### Warwick Data Science Society"
   ]
  },
  {
   "cell_type": "markdown",
   "id": "adopted-orbit",
   "metadata": {},
   "source": [
    "![WDSS banner](images/wdss_banner.jpg)"
   ]
  },
  {
   "cell_type": "markdown",
   "id": "individual-submission",
   "metadata": {},
   "source": [
    "Follow WDSS on [Facebook](https://link.wdss.io/facebook), [LinkedIn](https://link.wdss.io/linkedin), and [YouTube](https://link.wdss.io/youtube) for:\n",
    "- Numerous high-quality, free teaching courses on Python, R, Julia, SQL, etc.\n",
    "- Regular events with high-profile speakers from academia and industry\n",
    "- Student-led talks and workshops\n",
    "- Interdisciplinary research projects"
   ]
  },
  {
   "cell_type": "markdown",
   "id": "gorgeous-morrison",
   "metadata": {},
   "source": [
    "Elections are coming up and there are many non-technical roles. Check them out [here](https://www.facebook.com/warwickdatasciencesociety/posts/573623496854004)."
   ]
  },
  {
   "cell_type": "markdown",
   "id": "genuine-metro",
   "metadata": {},
   "source": [
    "Structure:\n",
    "- Introduction/promotion of WDSS\n",
    "- What is machine learning?\n",
    "- Decision trees and random forests\n",
    "- Preparing our data\n",
    "- How do we know our model is working?\n",
    "- Who can get the best model?"
   ]
  },
  {
   "cell_type": "markdown",
   "id": "recent-cooling",
   "metadata": {},
   "source": [
    "### More Like This"
   ]
  },
  {
   "cell_type": "markdown",
   "id": "neutral-shuttle",
   "metadata": {},
   "source": [
    "- [Python and a Piece of Paper](https://github.com/THargreaves/python-and-a-piece-of-paper) with Warwick Women in Finance\n",
    "- WDSS [Data Science Beginner's Tasters](https://www.youtube.com/playlist?list=PLZOhGHnc4_7E8HwYWomqwBUXEnv4rqTWc)"
   ]
  },
  {
   "cell_type": "markdown",
   "id": "occasional-weekend",
   "metadata": {},
   "source": [
    "## What is Machine Learning?"
   ]
  },
  {
   "cell_type": "markdown",
   "id": "reported-background",
   "metadata": {},
   "source": [
    "_How much do you know about machine learning?_"
   ]
  },
  {
   "cell_type": "markdown",
   "id": "joined-tuition",
   "metadata": {},
   "source": [
    "### At a High Level"
   ]
  },
  {
   "cell_type": "markdown",
   "id": "narrative-difference",
   "metadata": {},
   "source": [
    "Algorithms based on statistical methods to automatically find patterns and trends in data."
   ]
  },
  {
   "cell_type": "markdown",
   "id": "elementary-usage",
   "metadata": {},
   "source": [
    "Examples:\n",
    "- Recommendation systems\n",
    "- Computer vision\n",
    "- Reinforcement learning\n",
    "- Dimensionality reduction\n",
    "- Clustering"
   ]
  },
  {
   "cell_type": "markdown",
   "id": "certain-republican",
   "metadata": {},
   "source": [
    "### Machine Learning Terminology"
   ]
  },
  {
   "cell_type": "markdown",
   "id": "skilled-desktop",
   "metadata": {},
   "source": [
    "There are loosely two (main) types of machine learning."
   ]
  },
  {
   "cell_type": "markdown",
   "id": "capable-intelligence",
   "metadata": {},
   "source": [
    "|   Characteristics   |       Supervised Learning      |           Unsupervised Learning          |\n",
    "|:-------------------:|:------------------------------:|:----------------------------------------:|\n",
    "|   **Data Source**   |    Learn from labelled data    |        Learn from unlabelled data        |\n",
    "|    **Objective**    | Predicting labels for new data | Finding patterns/trends in existing data |\n",
    "|     **Example**     |        Image recognition       |           Clustering customers           |\n",
    "|    **Popularity**   |    Well-studied and utilised   |    Less popular but full of potential    |"
   ]
  },
  {
   "cell_type": "markdown",
   "id": "useful-accountability",
   "metadata": {},
   "source": [
    "![](images/learning_types.png)"
   ]
  },
  {
   "cell_type": "markdown",
   "id": "comprehensive-management",
   "metadata": {},
   "source": [
    "_Image source: [lawtomated.com](https://lawtomated.com/)_"
   ]
  },
  {
   "cell_type": "markdown",
   "id": "subject-finding",
   "metadata": {},
   "source": [
    "In this session we will be focusing on supervised learning.\n",
    "\n",
    "We can further split supervised learning into two (main) categories:\n",
    "\n",
    "1. **Regression**: Predicting a continuous value such as the price of a car\n",
    "2. **Classification**: Predicting a category such as type of house"
   ]
  },
  {
   "cell_type": "markdown",
   "id": "civilian-coast",
   "metadata": {},
   "source": [
    "![](images/supervised_types.png)"
   ]
  },
  {
   "cell_type": "markdown",
   "id": "differential-excitement",
   "metadata": {},
   "source": [
    "_Image source: [javatpoint](https://www.javatpoint.com/)_"
   ]
  },
  {
   "cell_type": "markdown",
   "id": "nasty-locator",
   "metadata": {},
   "source": [
    "_Any other examples?_"
   ]
  },
  {
   "cell_type": "markdown",
   "id": "sharp-acquisition",
   "metadata": {},
   "source": [
    "When performing supervised machine learning, we aim to learn how to predict a label for each data point. We call the value we are trying to predict the response variable and the values we are using to predict with the predictor variables."
   ]
  },
  {
   "cell_type": "markdown",
   "id": "incorporate-riding",
   "metadata": {},
   "source": [
    "## Decision Trees and Random Forests"
   ]
  },
  {
   "cell_type": "markdown",
   "id": "civil-warehouse",
   "metadata": {},
   "source": [
    "There are many machine learning models to choose from, but we will focus on one known as random forests for the following reasons:\n",
    "- Can be applied to both regression and classification\n",
    "- Works for a wide variety of data types\n",
    "- Performs well without much tuning of model\n",
    "- Generalises fairly well to unseen data"
   ]
  },
  {
   "cell_type": "markdown",
   "id": "realistic-edwards",
   "metadata": {},
   "source": [
    "### Decision Trees"
   ]
  },
  {
   "cell_type": "markdown",
   "id": "neither-helmet",
   "metadata": {},
   "source": [
    "![](images/decision_trees.png)"
   ]
  },
  {
   "cell_type": "markdown",
   "id": "medieval-visit",
   "metadata": {},
   "source": [
    "_Image source: [displayr.com](https://www.displayr.com/)_"
   ]
  },
  {
   "cell_type": "markdown",
   "id": "polar-telescope",
   "metadata": {},
   "source": [
    "The decision tree above was generated manually. The goal of a decision tree machine learning model is to learn what the best tree is."
   ]
  },
  {
   "cell_type": "markdown",
   "id": "binding-account",
   "metadata": {},
   "source": [
    "> **Technical Detail**\n",
    ">\n",
    "> How is this done?\n",
    "> \n",
    "> Figure out which variable has the most potential to split the labels of the data and then find the optimal split. Wash-rinse-repeat."
   ]
  },
  {
   "cell_type": "markdown",
   "id": "nervous-confidentiality",
   "metadata": {},
   "source": [
    "[Visual walkthrough](http://www.r2d3.us/visual-intro-to-machine-learning-part-1/)"
   ]
  },
  {
   "cell_type": "markdown",
   "id": "confirmed-attendance",
   "metadata": {},
   "source": [
    "Decision trees can also be used for regression. In this case, each \"leaf\" has a number rather than a category."
   ]
  },
  {
   "cell_type": "markdown",
   "id": "divided-spring",
   "metadata": {},
   "source": [
    "Problems with decision trees: potential to _overfit_ and memorise the data they are trained with."
   ]
  },
  {
   "cell_type": "markdown",
   "id": "interracial-parish",
   "metadata": {},
   "source": [
    "![](images/overfitting_tree.png)"
   ]
  },
  {
   "cell_type": "markdown",
   "id": "impressive-rough",
   "metadata": {},
   "source": [
    "### Random Forests"
   ]
  },
  {
   "cell_type": "markdown",
   "id": "located-austria",
   "metadata": {},
   "source": [
    "Random forests are, as the name suggests, a collection of decision trees:\n",
    "\n",
    "- Each tree is trained on only a subset of the predictors and the observations\n",
    "- Makes it harder to memorise data and overfit\n",
    "- When new observations are provided, each tree _votes_ on what they think the label is"
   ]
  },
  {
   "cell_type": "markdown",
   "id": "gentle-joining",
   "metadata": {},
   "source": [
    "More trees generally result in better predictions (flattening out in the limit) but take longer to train."
   ]
  },
  {
   "cell_type": "markdown",
   "id": "acceptable-walter",
   "metadata": {},
   "source": [
    "## Fitting a Machine Learning Model"
   ]
  },
  {
   "cell_type": "markdown",
   "id": "white-boulder",
   "metadata": {},
   "source": [
    "### Setup"
   ]
  },
  {
   "cell_type": "markdown",
   "id": "trying-fever",
   "metadata": {},
   "source": [
    "Why reinvent the wheel? Python comes with an incredible array of packages for data manipulation, visualisation and machine learning. We just have to import them."
   ]
  },
  {
   "cell_type": "code",
   "execution_count": 171,
   "id": "improved-carrier",
   "metadata": {},
   "outputs": [],
   "source": [
    "import numpy as np  # maths\n",
    "import pandas as pd  # data manipulation\n",
    "import matplotlib.pyplot as plt  # visualisation\n",
    "\n",
    "# Machine learning\n",
    "from sklearn.preprocessing import OneHotEncoder\n",
    "from sklearn.model_selection import train_test_split\n",
    "from sklearn.ensemble import RandomForestClassifier\n",
    "from sklearn.metrics import confusion_matrix, ConfusionMatrixDisplay"
   ]
  },
  {
   "cell_type": "markdown",
   "id": "working-database",
   "metadata": {},
   "source": [
    "When using Python, we need to be aware of the following facts:\n",
    "- Python is case-sensitive\n",
    "- Python generally doesn't care about spaces and newlines\n",
    "- We can run a code cell using the play button or `ctrl-enter`"
   ]
  },
  {
   "cell_type": "markdown",
   "id": "executive-citizen",
   "metadata": {},
   "source": [
    "### The Data"
   ]
  },
  {
   "cell_type": "markdown",
   "id": "moral-telephone",
   "metadata": {},
   "source": [
    "In this session we will look at a dataset giving numerous characteristics of US adults and whether they earn over \\$50K. This is taken from the [UCI Machine Learning Repository](https://archive.ics.uci.edu/ml/datasets/Adult) but a cleaned and processed version can be found [here](). You need to download this to you computer and upload it to Google Colab."
   ]
  },
  {
   "cell_type": "code",
   "execution_count": 172,
   "id": "balanced-research",
   "metadata": {},
   "outputs": [],
   "source": [
    "# Column names not included in dataset so we add them manually\n",
    "column_names = (\n",
    "    'age', 'workclass', 'fnlwgt', 'education', 'education-num', \n",
    "    'marital-status', 'occupation', 'relationship', 'race', 'sex',\n",
    "    'capital-gain', 'capital-loss', 'hours-per-week', 'native-country',\n",
    "    'income'\n",
    ")\n",
    "# Import the dataset and save it as `income_df`\n",
    "income_df = pd.read_csv('adult.csv', names=column_names, na_values='?')"
   ]
  },
  {
   "cell_type": "markdown",
   "id": "obvious-techno",
   "metadata": {},
   "source": [
    "The dataset comes with two columns that we don't need, `fnlwgt` and `education`. Let's remove these."
   ]
  },
  {
   "cell_type": "code",
   "execution_count": 173,
   "id": "plain-lingerie",
   "metadata": {},
   "outputs": [],
   "source": [
    "# Drop unnecessary columns\n",
    "income_df = income_df.drop(['fnlwgt', 'education'], axis=1)"
   ]
  },
  {
   "cell_type": "markdown",
   "id": "unusual-yesterday",
   "metadata": {},
   "source": [
    "What does this data set look like?"
   ]
  },
  {
   "cell_type": "code",
   "execution_count": 174,
   "id": "earlier-andrews",
   "metadata": {},
   "outputs": [
    {
     "data": {
      "text/plain": [
       "(48842, 13)"
      ]
     },
     "execution_count": 174,
     "metadata": {},
     "output_type": "execute_result"
    }
   ],
   "source": [
    "# Dimensions of data\n",
    "income_df.shape"
   ]
  },
  {
   "cell_type": "code",
   "execution_count": 175,
   "id": "square-heating",
   "metadata": {},
   "outputs": [
    {
     "data": {
      "text/html": [
       "<div>\n",
       "<style scoped>\n",
       "    .dataframe tbody tr th:only-of-type {\n",
       "        vertical-align: middle;\n",
       "    }\n",
       "\n",
       "    .dataframe tbody tr th {\n",
       "        vertical-align: top;\n",
       "    }\n",
       "\n",
       "    .dataframe thead th {\n",
       "        text-align: right;\n",
       "    }\n",
       "</style>\n",
       "<table border=\"1\" class=\"dataframe\">\n",
       "  <thead>\n",
       "    <tr style=\"text-align: right;\">\n",
       "      <th></th>\n",
       "      <th>age</th>\n",
       "      <th>workclass</th>\n",
       "      <th>education-num</th>\n",
       "      <th>marital-status</th>\n",
       "      <th>occupation</th>\n",
       "      <th>relationship</th>\n",
       "      <th>race</th>\n",
       "      <th>sex</th>\n",
       "      <th>capital-gain</th>\n",
       "      <th>capital-loss</th>\n",
       "      <th>hours-per-week</th>\n",
       "      <th>native-country</th>\n",
       "      <th>income</th>\n",
       "    </tr>\n",
       "  </thead>\n",
       "  <tbody>\n",
       "    <tr>\n",
       "      <th>0</th>\n",
       "      <td>39.0</td>\n",
       "      <td>State-gov</td>\n",
       "      <td>13</td>\n",
       "      <td>Never-married</td>\n",
       "      <td>Adm-clerical</td>\n",
       "      <td>Not-in-family</td>\n",
       "      <td>White</td>\n",
       "      <td>Male</td>\n",
       "      <td>2174</td>\n",
       "      <td>0</td>\n",
       "      <td>40</td>\n",
       "      <td>United-States</td>\n",
       "      <td>&lt;=50K</td>\n",
       "    </tr>\n",
       "    <tr>\n",
       "      <th>1</th>\n",
       "      <td>50.0</td>\n",
       "      <td>Self-emp-not-inc</td>\n",
       "      <td>13</td>\n",
       "      <td>Married-civ-spouse</td>\n",
       "      <td>Exec-managerial</td>\n",
       "      <td>Husband</td>\n",
       "      <td>White</td>\n",
       "      <td>Male</td>\n",
       "      <td>0</td>\n",
       "      <td>0</td>\n",
       "      <td>13</td>\n",
       "      <td>United-States</td>\n",
       "      <td>&lt;=50K</td>\n",
       "    </tr>\n",
       "    <tr>\n",
       "      <th>2</th>\n",
       "      <td>38.0</td>\n",
       "      <td>Private</td>\n",
       "      <td>9</td>\n",
       "      <td>Divorced</td>\n",
       "      <td>Handlers-cleaners</td>\n",
       "      <td>Not-in-family</td>\n",
       "      <td>White</td>\n",
       "      <td>Male</td>\n",
       "      <td>0</td>\n",
       "      <td>0</td>\n",
       "      <td>40</td>\n",
       "      <td>United-States</td>\n",
       "      <td>&lt;=50K</td>\n",
       "    </tr>\n",
       "    <tr>\n",
       "      <th>3</th>\n",
       "      <td>53.0</td>\n",
       "      <td>Private</td>\n",
       "      <td>7</td>\n",
       "      <td>Married-civ-spouse</td>\n",
       "      <td>Handlers-cleaners</td>\n",
       "      <td>Husband</td>\n",
       "      <td>Black</td>\n",
       "      <td>Male</td>\n",
       "      <td>0</td>\n",
       "      <td>0</td>\n",
       "      <td>40</td>\n",
       "      <td>United-States</td>\n",
       "      <td>&lt;=50K</td>\n",
       "    </tr>\n",
       "    <tr>\n",
       "      <th>4</th>\n",
       "      <td>28.0</td>\n",
       "      <td>Private</td>\n",
       "      <td>13</td>\n",
       "      <td>Married-civ-spouse</td>\n",
       "      <td>Prof-specialty</td>\n",
       "      <td>Wife</td>\n",
       "      <td>Black</td>\n",
       "      <td>Female</td>\n",
       "      <td>0</td>\n",
       "      <td>0</td>\n",
       "      <td>40</td>\n",
       "      <td>Cuba</td>\n",
       "      <td>&lt;=50K</td>\n",
       "    </tr>\n",
       "  </tbody>\n",
       "</table>\n",
       "</div>"
      ],
      "text/plain": [
       "    age         workclass  education-num      marital-status  \\\n",
       "0  39.0         State-gov             13       Never-married   \n",
       "1  50.0  Self-emp-not-inc             13  Married-civ-spouse   \n",
       "2  38.0           Private              9            Divorced   \n",
       "3  53.0           Private              7  Married-civ-spouse   \n",
       "4  28.0           Private             13  Married-civ-spouse   \n",
       "\n",
       "          occupation   relationship   race     sex  capital-gain  \\\n",
       "0       Adm-clerical  Not-in-family  White    Male          2174   \n",
       "1    Exec-managerial        Husband  White    Male             0   \n",
       "2  Handlers-cleaners  Not-in-family  White    Male             0   \n",
       "3  Handlers-cleaners        Husband  Black    Male             0   \n",
       "4     Prof-specialty           Wife  Black  Female             0   \n",
       "\n",
       "   capital-loss  hours-per-week native-country income  \n",
       "0             0              40  United-States  <=50K  \n",
       "1             0              13  United-States  <=50K  \n",
       "2             0              40  United-States  <=50K  \n",
       "3             0              40  United-States  <=50K  \n",
       "4             0              40           Cuba  <=50K  "
      ]
     },
     "execution_count": 175,
     "metadata": {},
     "output_type": "execute_result"
    }
   ],
   "source": [
    "# First few rows of data\n",
    "income_df.head()"
   ]
  },
  {
   "cell_type": "markdown",
   "id": "demanding-overview",
   "metadata": {},
   "source": [
    "_What factors do you think will be the most important?_"
   ]
  },
  {
   "cell_type": "code",
   "execution_count": 176,
   "id": "following-variance",
   "metadata": {},
   "outputs": [
    {
     "data": {
      "text/plain": [
       "age               float64\n",
       "workclass          object\n",
       "education-num       int64\n",
       "marital-status     object\n",
       "occupation         object\n",
       "relationship       object\n",
       "race               object\n",
       "sex                object\n",
       "capital-gain        int64\n",
       "capital-loss        int64\n",
       "hours-per-week      int64\n",
       "native-country     object\n",
       "income             object\n",
       "dtype: object"
      ]
     },
     "execution_count": 176,
     "metadata": {},
     "output_type": "execute_result"
    }
   ],
   "source": [
    "# Datatypes of columns (float64 => decimal, object => text)\n",
    "income_df.dtypes"
   ]
  },
  {
   "cell_type": "code",
   "execution_count": 177,
   "id": "synthetic-kennedy",
   "metadata": {},
   "outputs": [
    {
     "data": {
      "text/html": [
       "<div>\n",
       "<style scoped>\n",
       "    .dataframe tbody tr th:only-of-type {\n",
       "        vertical-align: middle;\n",
       "    }\n",
       "\n",
       "    .dataframe tbody tr th {\n",
       "        vertical-align: top;\n",
       "    }\n",
       "\n",
       "    .dataframe thead th {\n",
       "        text-align: right;\n",
       "    }\n",
       "</style>\n",
       "<table border=\"1\" class=\"dataframe\">\n",
       "  <thead>\n",
       "    <tr style=\"text-align: right;\">\n",
       "      <th></th>\n",
       "      <th>age</th>\n",
       "      <th>education-num</th>\n",
       "      <th>capital-gain</th>\n",
       "      <th>capital-loss</th>\n",
       "      <th>hours-per-week</th>\n",
       "    </tr>\n",
       "  </thead>\n",
       "  <tbody>\n",
       "    <tr>\n",
       "      <th>count</th>\n",
       "      <td>48840.000000</td>\n",
       "      <td>48842.000000</td>\n",
       "      <td>48842.000000</td>\n",
       "      <td>48842.000000</td>\n",
       "      <td>48842.000000</td>\n",
       "    </tr>\n",
       "    <tr>\n",
       "      <th>mean</th>\n",
       "      <td>38.643919</td>\n",
       "      <td>10.078089</td>\n",
       "      <td>1079.067626</td>\n",
       "      <td>87.502314</td>\n",
       "      <td>40.422382</td>\n",
       "    </tr>\n",
       "    <tr>\n",
       "      <th>std</th>\n",
       "      <td>13.710691</td>\n",
       "      <td>2.570973</td>\n",
       "      <td>7452.019058</td>\n",
       "      <td>403.004552</td>\n",
       "      <td>12.391444</td>\n",
       "    </tr>\n",
       "    <tr>\n",
       "      <th>min</th>\n",
       "      <td>17.000000</td>\n",
       "      <td>1.000000</td>\n",
       "      <td>0.000000</td>\n",
       "      <td>0.000000</td>\n",
       "      <td>1.000000</td>\n",
       "    </tr>\n",
       "    <tr>\n",
       "      <th>25%</th>\n",
       "      <td>28.000000</td>\n",
       "      <td>9.000000</td>\n",
       "      <td>0.000000</td>\n",
       "      <td>0.000000</td>\n",
       "      <td>40.000000</td>\n",
       "    </tr>\n",
       "    <tr>\n",
       "      <th>50%</th>\n",
       "      <td>37.000000</td>\n",
       "      <td>10.000000</td>\n",
       "      <td>0.000000</td>\n",
       "      <td>0.000000</td>\n",
       "      <td>40.000000</td>\n",
       "    </tr>\n",
       "    <tr>\n",
       "      <th>75%</th>\n",
       "      <td>48.000000</td>\n",
       "      <td>12.000000</td>\n",
       "      <td>0.000000</td>\n",
       "      <td>0.000000</td>\n",
       "      <td>45.000000</td>\n",
       "    </tr>\n",
       "    <tr>\n",
       "      <th>max</th>\n",
       "      <td>90.000000</td>\n",
       "      <td>16.000000</td>\n",
       "      <td>99999.000000</td>\n",
       "      <td>4356.000000</td>\n",
       "      <td>99.000000</td>\n",
       "    </tr>\n",
       "  </tbody>\n",
       "</table>\n",
       "</div>"
      ],
      "text/plain": [
       "                age  education-num  capital-gain  capital-loss  hours-per-week\n",
       "count  48840.000000   48842.000000  48842.000000  48842.000000    48842.000000\n",
       "mean      38.643919      10.078089   1079.067626     87.502314       40.422382\n",
       "std       13.710691       2.570973   7452.019058    403.004552       12.391444\n",
       "min       17.000000       1.000000      0.000000      0.000000        1.000000\n",
       "25%       28.000000       9.000000      0.000000      0.000000       40.000000\n",
       "50%       37.000000      10.000000      0.000000      0.000000       40.000000\n",
       "75%       48.000000      12.000000      0.000000      0.000000       45.000000\n",
       "max       90.000000      16.000000  99999.000000   4356.000000       99.000000"
      ]
     },
     "execution_count": 177,
     "metadata": {},
     "output_type": "execute_result"
    }
   ],
   "source": [
    "# Summaries of numeric columns\n",
    "income_df.describe()"
   ]
  },
  {
   "cell_type": "code",
   "execution_count": 178,
   "id": "optimum-justice",
   "metadata": {},
   "outputs": [
    {
     "data": {
      "text/plain": [
       "array(['United-States', 'Cuba', 'Jamaica', 'India', nan, 'Mexico',\n",
       "       'South', 'Puerto-Rico', 'Honduras', 'England', 'Canada', 'Germany',\n",
       "       'Iran', 'Philippines', 'Italy', 'Poland', 'Columbia', 'Cambodia',\n",
       "       'Thailand', 'Ecuador', 'Laos', 'Taiwan', 'Haiti', 'Portugal',\n",
       "       'Dominican-Republic', 'El-Salvador', 'France', 'Guatemala',\n",
       "       'China', 'Japan', 'Yugoslavia', 'Peru',\n",
       "       'Outlying-US(Guam-USVI-etc)', 'Scotland', 'Trinadad&Tobago',\n",
       "       'Greece', 'Nicaragua', 'Vietnam', 'Hong', 'Ireland', 'Hungary',\n",
       "       'Holand-Netherlands'], dtype=object)"
      ]
     },
     "execution_count": 178,
     "metadata": {},
     "output_type": "execute_result"
    }
   ],
   "source": [
    "# Unique values in `native-country` column\n",
    "income_df['native-country'].unique()"
   ]
  },
  {
   "cell_type": "markdown",
   "id": "aboriginal-cosmetic",
   "metadata": {},
   "source": [
    "We can also create plots of the data."
   ]
  },
  {
   "cell_type": "code",
   "execution_count": 179,
   "id": "economic-petroleum",
   "metadata": {},
   "outputs": [
    {
     "data": {
      "image/png": "[encoded data removed]",
      "text/plain": [
       "<Figure size 432x288 with 1 Axes>"
      ]
     },
     "metadata": {
      "needs_background": "light"
     },
     "output_type": "display_data"
    }
   ],
   "source": [
    "# Plot capital losses on a log scale against age\n",
    "fig, ax = plt.subplots()\n",
    "ax.scatter(income_df['age'], income_df['capital-loss'],\n",
    "          c='black', alpha=0.1)\n",
    "ax.set_yscale('log')\n",
    "ax.set_xlabel('Age')\n",
    "ax.set_ylabel('Capital Loss')\n",
    "plt.show()"
   ]
  },
  {
   "cell_type": "markdown",
   "id": "roman-designer",
   "metadata": {},
   "source": [
    "Let's split our predictors and response variables. Typically, we call the predictors `X` and the response `y`."
   ]
  },
  {
   "cell_type": "code",
   "execution_count": 180,
   "id": "diagnostic-tribe",
   "metadata": {},
   "outputs": [],
   "source": [
    "# Split into predictors and response\n",
    "X = income_df.drop('income', axis=1)\n",
    "y = income_df['income']"
   ]
  },
  {
   "cell_type": "markdown",
   "id": "promising-indiana",
   "metadata": {},
   "source": [
    "### Cleaning"
   ]
  },
  {
   "cell_type": "markdown",
   "id": "antique-theory",
   "metadata": {},
   "source": [
    "Our dataset has missing values. Where are they?"
   ]
  },
  {
   "cell_type": "code",
   "execution_count": 181,
   "id": "announced-certification",
   "metadata": {},
   "outputs": [
    {
     "data": {
      "text/plain": [
       "age                True\n",
       "workclass          True\n",
       "education-num     False\n",
       "marital-status    False\n",
       "occupation         True\n",
       "relationship      False\n",
       "race              False\n",
       "sex               False\n",
       "capital-gain      False\n",
       "capital-loss      False\n",
       "hours-per-week    False\n",
       "native-country     True\n",
       "dtype: bool"
      ]
     },
     "execution_count": 181,
     "metadata": {},
     "output_type": "execute_result"
    }
   ],
   "source": [
    "# Find the missing values\n",
    "X.isna().any()"
   ]
  },
  {
   "cell_type": "markdown",
   "id": "prepared-career",
   "metadata": {},
   "source": [
    "We have missing values in both numeric and text columns. Let's starting by replacing missing numeric values with the column mean."
   ]
  },
  {
   "cell_type": "code",
   "execution_count": 182,
   "id": "respiratory-separate",
   "metadata": {},
   "outputs": [],
   "source": [
    "# Replace missing numeric values with column mean\n",
    "X = X.fillna(X.mean())"
   ]
  },
  {
   "cell_type": "markdown",
   "id": "intensive-terry",
   "metadata": {},
   "source": [
    "For the text columns, there is no mean, so instead we use the column mode (most common value)."
   ]
  },
  {
   "cell_type": "code",
   "execution_count": 183,
   "id": "furnished-spirituality",
   "metadata": {},
   "outputs": [],
   "source": [
    "# Replace with column modes\n",
    "for name, values in X.iteritems():\n",
    "    if values.dtype == 'object':\n",
    "        X[name] = values.fillna(values.value_counts().index[0])"
   ]
  },
  {
   "cell_type": "markdown",
   "id": "curious-venezuela",
   "metadata": {},
   "source": [
    "Let's check that all missing values are gone."
   ]
  },
  {
   "cell_type": "code",
   "execution_count": 184,
   "id": "cathedral-essex",
   "metadata": {},
   "outputs": [
    {
     "data": {
      "text/plain": [
       "age               False\n",
       "workclass         False\n",
       "education-num     False\n",
       "marital-status    False\n",
       "occupation        False\n",
       "relationship      False\n",
       "race              False\n",
       "sex               False\n",
       "capital-gain      False\n",
       "capital-loss      False\n",
       "hours-per-week    False\n",
       "native-country    False\n",
       "dtype: bool"
      ]
     },
     "execution_count": 184,
     "metadata": {},
     "output_type": "execute_result"
    }
   ],
   "source": [
    "# Find the missing values\n",
    "X.isna().any()"
   ]
  },
  {
   "cell_type": "markdown",
   "id": "relevant-arrival",
   "metadata": {},
   "source": [
    "> For a deeper discussion on how to handle missing values, check out [episode 5](https://youtu.be/BIoFwGl2Vtc?t=1150) of WDSS's podcast [DataBasic](https://podcast.wdss.io/)."
   ]
  },
  {
   "cell_type": "markdown",
   "id": "protecting-toddler",
   "metadata": {},
   "source": [
    "### Encoding"
   ]
  },
  {
   "cell_type": "markdown",
   "id": "acquired-burns",
   "metadata": {},
   "source": [
    "Machine learning models almost exclusively work with numbers. This means that we need to encode our text columns into a numeric form. There are multiple ways to do this, but the most common is known as one-hot encoding."
   ]
  },
  {
   "cell_type": "markdown",
   "id": "union-termination",
   "metadata": {},
   "source": [
    "![](images/one_hot_enc.png)"
   ]
  },
  {
   "cell_type": "markdown",
   "id": "straight-battlefield",
   "metadata": {},
   "source": [
    "Lucky for us, `sklearn` has a function for doing exactly this"
   ]
  },
  {
   "cell_type": "code",
   "execution_count": 185,
   "id": "complimentary-liquid",
   "metadata": {},
   "outputs": [],
   "source": [
    "# Split numeric and text columns\n",
    "numeric = X.select_dtypes(exclude='object')\n",
    "text = X.select_dtypes(include='object')"
   ]
  },
  {
   "cell_type": "code",
   "execution_count": 186,
   "id": "parliamentary-sheriff",
   "metadata": {},
   "outputs": [],
   "source": [
    "# One-hot encode text colums\n",
    "enc = OneHotEncoder()\n",
    "text_enc = enc.fit_transform(text)"
   ]
  },
  {
   "cell_type": "code",
   "execution_count": 187,
   "id": "incomplete-setup",
   "metadata": {},
   "outputs": [],
   "source": [
    "# Recombine variables\n",
    "X_enc = np.hstack((numeric.to_numpy(), text_enc.todense()))"
   ]
  },
  {
   "cell_type": "code",
   "execution_count": 206,
   "id": "engaged-disaster",
   "metadata": {},
   "outputs": [],
   "source": [
    "# Get new column names\n",
    "enc_columns = np.concatenate([numeric.columns, enc.get_feature_names(text.columns)])"
   ]
  },
  {
   "cell_type": "markdown",
   "id": "severe-supervisor",
   "metadata": {},
   "source": [
    "What does `X_enc` look like? Notice, it no longer needs to be a dataframe because all of the values are numeric."
   ]
  },
  {
   "cell_type": "code",
   "execution_count": 188,
   "id": "offshore-canberra",
   "metadata": {},
   "outputs": [
    {
     "data": {
      "text/plain": [
       "matrix([[3.900e+01, 1.300e+01, 2.174e+03, ..., 1.000e+00, 0.000e+00,\n",
       "         0.000e+00],\n",
       "        [5.000e+01, 1.300e+01, 0.000e+00, ..., 1.000e+00, 0.000e+00,\n",
       "         0.000e+00],\n",
       "        [3.800e+01, 9.000e+00, 0.000e+00, ..., 1.000e+00, 0.000e+00,\n",
       "         0.000e+00],\n",
       "        ...,\n",
       "        [3.800e+01, 1.300e+01, 0.000e+00, ..., 1.000e+00, 0.000e+00,\n",
       "         0.000e+00],\n",
       "        [4.400e+01, 1.300e+01, 5.455e+03, ..., 1.000e+00, 0.000e+00,\n",
       "         0.000e+00],\n",
       "        [3.500e+01, 1.300e+01, 0.000e+00, ..., 1.000e+00, 0.000e+00,\n",
       "         0.000e+00]])"
      ]
     },
     "execution_count": 188,
     "metadata": {},
     "output_type": "execute_result"
    }
   ],
   "source": [
    "X_enc"
   ]
  },
  {
   "cell_type": "markdown",
   "id": "still-chamber",
   "metadata": {},
   "source": [
    "We also need to encode `y` so that it has value zero if income is over \\$50K and zero otherwise."
   ]
  },
  {
   "cell_type": "code",
   "execution_count": 189,
   "id": "organic-individual",
   "metadata": {},
   "outputs": [],
   "source": [
    "# Encode y\n",
    "y_enc = (y == '<=50K').astype('int')"
   ]
  },
  {
   "cell_type": "markdown",
   "id": "encouraging-marsh",
   "metadata": {},
   "source": [
    "### Train-test Split"
   ]
  },
  {
   "cell_type": "markdown",
   "id": "laughing-robin",
   "metadata": {},
   "source": [
    "How can we make sure that our model isn't overfitting?\n",
    "\n",
    "- We split our dataset into two parts\n",
    "- We train on the first part\n",
    "- Then evaluate on the second part\n",
    "- If the model only memorised the first part, it will be useless on the unseen second"
   ]
  },
  {
   "cell_type": "markdown",
   "id": "brutal-monroe",
   "metadata": {},
   "source": [
    "We use `sklearn`'s `train_test_split` to do this."
   ]
  },
  {
   "cell_type": "code",
   "execution_count": 190,
   "id": "separate-maine",
   "metadata": {},
   "outputs": [],
   "source": [
    "# Create training and testing datasets\n",
    "X_train, X_test, y_train, y_test = train_test_split(\n",
    "    X_enc, y_enc, test_size=0.2, random_state=2021\n",
    ")"
   ]
  },
  {
   "cell_type": "markdown",
   "id": "demographic-chess",
   "metadata": {},
   "source": [
    "Before we fit our model, it is important to have a baseline benchmark. The most simple model we could make would be to ignore the predictors and just predict the most common response for every observation."
   ]
  },
  {
   "cell_type": "code",
   "execution_count": 194,
   "id": "marine-london",
   "metadata": {},
   "outputs": [
    {
     "data": {
      "text/plain": [
       "1    7399\n",
       "0    2370\n",
       "Name: income, dtype: int64"
      ]
     },
     "execution_count": 194,
     "metadata": {},
     "output_type": "execute_result"
    }
   ],
   "source": [
    "y_test.value_counts()"
   ]
  },
  {
   "cell_type": "markdown",
   "id": "hydraulic-assessment",
   "metadata": {},
   "source": [
    "Looking at the counts of each value in `y_test` we see that this would have an accuracy of roughly 75%."
   ]
  },
  {
   "cell_type": "markdown",
   "id": "numerous-spider",
   "metadata": {},
   "source": [
    "### Model Building"
   ]
  },
  {
   "cell_type": "markdown",
   "id": "fabulous-empire",
   "metadata": {},
   "source": [
    "We are now ready to build a model and fit it to our training data."
   ]
  },
  {
   "cell_type": "code",
   "execution_count": 195,
   "id": "legitimate-racing",
   "metadata": {},
   "outputs": [],
   "source": [
    "# Build the model\n",
    "clf = RandomForestClassifier()"
   ]
  },
  {
   "cell_type": "code",
   "execution_count": 196,
   "id": "reflected-chuck",
   "metadata": {},
   "outputs": [],
   "source": [
    "# Fit model to training data\n",
    "clf = clf.fit(X_train, y_train)"
   ]
  },
  {
   "cell_type": "markdown",
   "id": "parallel-grace",
   "metadata": {},
   "source": [
    "Finally, we can make predictions on both the training set and test set."
   ]
  },
  {
   "cell_type": "code",
   "execution_count": 197,
   "id": "fleet-compact",
   "metadata": {},
   "outputs": [],
   "source": [
    "# Make predictions\n",
    "pred_train = clf.predict(X_train)\n",
    "pred_test = clf.predict(X_test)"
   ]
  },
  {
   "cell_type": "markdown",
   "id": "pretty-selling",
   "metadata": {},
   "source": [
    "It is also interesting to ask what predictors the model thought were most important."
   ]
  },
  {
   "cell_type": "code",
   "execution_count": 233,
   "id": "planned-spanish",
   "metadata": {},
   "outputs": [
    {
     "data": {
      "image/png": "[encoded data removed]",
      "text/plain": [
       "<Figure size 720x432 with 1 Axes>"
      ]
     },
     "metadata": {
      "needs_background": "light"
     },
     "output_type": "display_data"
    }
   ],
   "source": [
    "# Plot feature importances\n",
    "importances = pd.DataFrame({\n",
    "    'feature': enc_columns,\n",
    "    'importance': clf.feature_importances_\n",
    "})\n",
    "importances['predictor'] = importances.feature.str.extract(r'^([^_]+)')\n",
    "importances = importances.groupby('predictor',\n",
    "                                  as_index=False)['importance'].sum()\n",
    "importances.sort_values('importance', inplace=True, ascending=False)\n",
    "fig, ax = plt.subplots(figsize=(10, 6))\n",
    "ax.bar(importances.predictor, importances.importance,\n",
    "       edgecolor='black', color='lightgray')\n",
    "ax.tick_params('x', rotation=90)\n",
    "ax.set_xlabel(\"Feature\")\n",
    "ax.set_ylabel(\"Importance\")\n",
    "plt.show()"
   ]
  },
  {
   "cell_type": "markdown",
   "id": "brave-grammar",
   "metadata": {},
   "source": [
    "## Model Tuning and Measuring Performance"
   ]
  },
  {
   "cell_type": "markdown",
   "id": "biological-design",
   "metadata": {},
   "source": [
    "We can start by computing train and test set accuracy."
   ]
  },
  {
   "cell_type": "code",
   "execution_count": 236,
   "id": "changing-fellowship",
   "metadata": {},
   "outputs": [
    {
     "name": "stdout",
     "output_type": "stream",
     "text": [
      "Train set accuracy: 0.9739462032605636\n",
      "Test set accuracy: 0.8519807554509161\n"
     ]
    }
   ],
   "source": [
    "# Compute accuracies\n",
    "print(\"Train set accuracy:\", (pred_train == y_train).mean())\n",
    "print(\"Test set accuracy:\", (pred_test == y_test).mean())"
   ]
  },
  {
   "cell_type": "markdown",
   "id": "modified-tribute",
   "metadata": {},
   "source": [
    "Even better, we can plot a confusion matrix, which shows where our model was making mistakes."
   ]
  },
  {
   "cell_type": "code",
   "execution_count": 249,
   "id": "reasonable-administrator",
   "metadata": {},
   "outputs": [
    {
     "data": {
      "image/png": "[encoded data removed]",
      "text/plain": [
       "<Figure size 1080x432 with 4 Axes>"
      ]
     },
     "metadata": {
      "needs_background": "light"
     },
     "output_type": "display_data"
    }
   ],
   "source": [
    "# Plot confusion matrices\n",
    "fig, (ax1, ax2) = plt.subplots(1, 2, figsize=(15, 6))\n",
    "# Train set\n",
    "cm = confusion_matrix(y_train, pred_train)\n",
    "disp = ConfusionMatrixDisplay(cm, display_labels = ('<50K', '>=50K'))\n",
    "disp.plot(ax=ax1)\n",
    "ax1.set_title('Train Set Confusion Matrix')\n",
    "# Test set\n",
    "cm = confusion_matrix(y_test, pred_test)\n",
    "disp = ConfusionMatrixDisplay(cm, display_labels = ('<50K', '>=50K'))\n",
    "disp.plot(ax=ax2)\n",
    "ax2.set_title('Test Set Confusion Matrix')\n",
    "# Show plot\n",
    "plt.show()"
   ]
  },
  {
   "cell_type": "markdown",
   "id": "funny-mechanism",
   "metadata": {},
   "source": [
    "It appears that our model is drastically overfitting. This is likely because our trees are too complex."
   ]
  },
  {
   "cell_type": "markdown",
   "id": "relative-gnome",
   "metadata": {},
   "source": [
    "![](images/model_complexity.png)"
   ]
  },
  {
   "cell_type": "markdown",
   "id": "affected-correspondence",
   "metadata": {},
   "source": [
    "Let's read the [documentation](https://scikit-learn.org/stable/modules/generated/sklearn.ensemble.RandomForestClassifier.html) for `RandomForestClassifier` and try to correct this."
   ]
  },
  {
   "cell_type": "markdown",
   "id": "thirty-husband",
   "metadata": {},
   "source": [
    "_How well can you do?_"
   ]
  }
 ],
 "metadata": {
  "kernelspec": {
   "display_name": "Python for Data Science",
   "language": "python",
   "name": "pyds"
  },
  "language_info": {
   "codemirror_mode": {
    "name": "ipython",
    "version": 3
   },
   "file_extension": ".py",
   "mimetype": "text/x-python",
   "name": "python",
   "nbconvert_exporter": "python",
   "pygments_lexer": "ipython3",
   "version": "3.8.5"
  }
 },
 "nbformat": 4,
 "nbformat_minor": 5
}
